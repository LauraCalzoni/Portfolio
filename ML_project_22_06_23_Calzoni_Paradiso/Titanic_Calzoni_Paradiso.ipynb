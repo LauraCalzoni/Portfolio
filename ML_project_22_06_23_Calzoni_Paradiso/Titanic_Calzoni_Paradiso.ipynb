{
 "cells": [
  {
   "attachments": {},
   "cell_type": "markdown",
   "metadata": {},
   "source": [
    "Machine Learning project: Laura Calzoni, Francesca Paradiso"
   ]
  },
  {
   "attachments": {},
   "cell_type": "markdown",
   "metadata": {},
   "source": [
    "# Prediction over the Titanic dataset\n",
    "\n",
    "The aim of the project is to predict the survival state of a passenger on the Titanic, basing on some data provided."
   ]
  },
  {
   "attachments": {},
   "cell_type": "markdown",
   "metadata": {},
   "source": [
    "(Note on the project result: each time the script is run the data relative to stochastic decisions could change from the one shown in the report)"
   ]
  },
  {
   "attachments": {},
   "cell_type": "markdown",
   "metadata": {},
   "source": [
    "We import all the necessary libraries to develope the project"
   ]
  },
  {
   "cell_type": "code",
   "execution_count": 123,
   "metadata": {},
   "outputs": [],
   "source": [
    "# linear algebra\n",
    "import numpy as np \n",
    "import random\n",
    "\n",
    "# data processing\n",
    "import pandas as pd \n",
    "import csv\n",
    "\n",
    "# data visualization\n",
    "import seaborn as sns\n",
    "%matplotlib inline\n",
    "from matplotlib import pyplot as plt\n",
    "from scipy import stats\n",
    "\n",
    "# Algorithms\n",
    "from sklearn.linear_model import SGDClassifier\n",
    "from sklearn.svm import LinearSVC\n",
    "from sklearn.ensemble import RandomForestClassifier\n",
    "from sklearn.tree import DecisionTreeClassifier\n",
    "\n",
    "#Evaluation tools\n",
    "from sklearn.model_selection import train_test_split, cross_val_score, GridSearchCV, cross_val_predict\n",
    "from sklearn.metrics import accuracy_score, confusion_matrix, precision_score, recall_score, f1_score\n",
    "\n",
    "augmentation = False\n"
   ]
  },
  {
   "attachments": {},
   "cell_type": "markdown",
   "metadata": {},
   "source": [
    "# 1. Data exploration"
   ]
  },
  {
   "attachments": {},
   "cell_type": "markdown",
   "metadata": {},
   "source": [
    "We upload the dataset by reading the Titanic.csv file provided and we plot the information contained in such file (number of samples available and characteristics of the data contained)."
   ]
  },
  {
   "cell_type": "code",
   "execution_count": 124,
   "metadata": {},
   "outputs": [
    {
     "name": "stdout",
     "output_type": "stream",
     "text": [
      "<class 'pandas.core.frame.DataFrame'>\n",
      "RangeIndex: 889 entries, 0 to 888\n",
      "Data columns (total 9 columns):\n",
      " #   Column       Non-Null Count  Dtype  \n",
      "---  ------       --------------  -----  \n",
      " 0   PassengerId  889 non-null    int64  \n",
      " 1   Survived     889 non-null    int64  \n",
      " 2   Pclass       889 non-null    int64  \n",
      " 3   Sex          889 non-null    object \n",
      " 4   Age          889 non-null    float64\n",
      " 5   SibSp        889 non-null    int64  \n",
      " 6   Parch        889 non-null    int64  \n",
      " 7   Fare         889 non-null    float64\n",
      " 8   Embarked     889 non-null    int64  \n",
      "dtypes: float64(2), int64(6), object(1)\n",
      "memory usage: 62.6+ KB\n"
     ]
    }
   ],
   "source": [
    "dataset = pd.read_csv(\"Titanic.csv\")\n",
    "dataset.info()"
   ]
  },
  {
   "cell_type": "code",
   "execution_count": 125,
   "metadata": {},
   "outputs": [
    {
     "data": {
      "text/html": [
       "<div>\n",
       "<style scoped>\n",
       "    .dataframe tbody tr th:only-of-type {\n",
       "        vertical-align: middle;\n",
       "    }\n",
       "\n",
       "    .dataframe tbody tr th {\n",
       "        vertical-align: top;\n",
       "    }\n",
       "\n",
       "    .dataframe thead th {\n",
       "        text-align: right;\n",
       "    }\n",
       "</style>\n",
       "<table border=\"1\" class=\"dataframe\">\n",
       "  <thead>\n",
       "    <tr style=\"text-align: right;\">\n",
       "      <th></th>\n",
       "      <th>PassengerId</th>\n",
       "      <th>Survived</th>\n",
       "      <th>Pclass</th>\n",
       "      <th>Age</th>\n",
       "      <th>SibSp</th>\n",
       "      <th>Parch</th>\n",
       "      <th>Fare</th>\n",
       "      <th>Embarked</th>\n",
       "    </tr>\n",
       "  </thead>\n",
       "  <tbody>\n",
       "    <tr>\n",
       "      <th>count</th>\n",
       "      <td>889.000000</td>\n",
       "      <td>889.000000</td>\n",
       "      <td>889.000000</td>\n",
       "      <td>889.000000</td>\n",
       "      <td>889.000000</td>\n",
       "      <td>889.000000</td>\n",
       "      <td>889.000000</td>\n",
       "      <td>889.000000</td>\n",
       "    </tr>\n",
       "    <tr>\n",
       "      <th>mean</th>\n",
       "      <td>446.000000</td>\n",
       "      <td>0.382452</td>\n",
       "      <td>2.311586</td>\n",
       "      <td>35.686355</td>\n",
       "      <td>0.524184</td>\n",
       "      <td>0.382452</td>\n",
       "      <td>32.096681</td>\n",
       "      <td>2.535433</td>\n",
       "    </tr>\n",
       "    <tr>\n",
       "      <th>std</th>\n",
       "      <td>256.998173</td>\n",
       "      <td>0.486260</td>\n",
       "      <td>0.834700</td>\n",
       "      <td>17.756733</td>\n",
       "      <td>1.103705</td>\n",
       "      <td>0.806761</td>\n",
       "      <td>49.697504</td>\n",
       "      <td>0.792088</td>\n",
       "    </tr>\n",
       "    <tr>\n",
       "      <th>min</th>\n",
       "      <td>1.000000</td>\n",
       "      <td>0.000000</td>\n",
       "      <td>1.000000</td>\n",
       "      <td>0.420000</td>\n",
       "      <td>0.000000</td>\n",
       "      <td>0.000000</td>\n",
       "      <td>0.000000</td>\n",
       "      <td>1.000000</td>\n",
       "    </tr>\n",
       "    <tr>\n",
       "      <th>25%</th>\n",
       "      <td>224.000000</td>\n",
       "      <td>0.000000</td>\n",
       "      <td>2.000000</td>\n",
       "      <td>22.000000</td>\n",
       "      <td>0.000000</td>\n",
       "      <td>0.000000</td>\n",
       "      <td>7.895800</td>\n",
       "      <td>2.000000</td>\n",
       "    </tr>\n",
       "    <tr>\n",
       "      <th>50%</th>\n",
       "      <td>446.000000</td>\n",
       "      <td>0.000000</td>\n",
       "      <td>3.000000</td>\n",
       "      <td>32.000000</td>\n",
       "      <td>0.000000</td>\n",
       "      <td>0.000000</td>\n",
       "      <td>14.454200</td>\n",
       "      <td>3.000000</td>\n",
       "    </tr>\n",
       "    <tr>\n",
       "      <th>75%</th>\n",
       "      <td>668.000000</td>\n",
       "      <td>1.000000</td>\n",
       "      <td>3.000000</td>\n",
       "      <td>54.000000</td>\n",
       "      <td>1.000000</td>\n",
       "      <td>0.000000</td>\n",
       "      <td>31.000000</td>\n",
       "      <td>3.000000</td>\n",
       "    </tr>\n",
       "    <tr>\n",
       "      <th>max</th>\n",
       "      <td>891.000000</td>\n",
       "      <td>1.000000</td>\n",
       "      <td>3.000000</td>\n",
       "      <td>80.000000</td>\n",
       "      <td>8.000000</td>\n",
       "      <td>6.000000</td>\n",
       "      <td>512.329200</td>\n",
       "      <td>3.000000</td>\n",
       "    </tr>\n",
       "  </tbody>\n",
       "</table>\n",
       "</div>"
      ],
      "text/plain": [
       "       PassengerId    Survived      Pclass         Age       SibSp  \\\n",
       "count   889.000000  889.000000  889.000000  889.000000  889.000000   \n",
       "mean    446.000000    0.382452    2.311586   35.686355    0.524184   \n",
       "std     256.998173    0.486260    0.834700   17.756733    1.103705   \n",
       "min       1.000000    0.000000    1.000000    0.420000    0.000000   \n",
       "25%     224.000000    0.000000    2.000000   22.000000    0.000000   \n",
       "50%     446.000000    0.000000    3.000000   32.000000    0.000000   \n",
       "75%     668.000000    1.000000    3.000000   54.000000    1.000000   \n",
       "max     891.000000    1.000000    3.000000   80.000000    8.000000   \n",
       "\n",
       "            Parch        Fare    Embarked  \n",
       "count  889.000000  889.000000  889.000000  \n",
       "mean     0.382452   32.096681    2.535433  \n",
       "std      0.806761   49.697504    0.792088  \n",
       "min      0.000000    0.000000    1.000000  \n",
       "25%      0.000000    7.895800    2.000000  \n",
       "50%      0.000000   14.454200    3.000000  \n",
       "75%      0.000000   31.000000    3.000000  \n",
       "max      6.000000  512.329200    3.000000  "
      ]
     },
     "execution_count": 125,
     "metadata": {},
     "output_type": "execute_result"
    }
   ],
   "source": [
    "dataset.describe()"
   ]
  },
  {
   "attachments": {},
   "cell_type": "markdown",
   "metadata": {},
   "source": [
    "As an example, we display the first samples of our dataset"
   ]
  },
  {
   "cell_type": "code",
   "execution_count": 126,
   "metadata": {},
   "outputs": [
    {
     "data": {
      "text/html": [
       "<div>\n",
       "<style scoped>\n",
       "    .dataframe tbody tr th:only-of-type {\n",
       "        vertical-align: middle;\n",
       "    }\n",
       "\n",
       "    .dataframe tbody tr th {\n",
       "        vertical-align: top;\n",
       "    }\n",
       "\n",
       "    .dataframe thead th {\n",
       "        text-align: right;\n",
       "    }\n",
       "</style>\n",
       "<table border=\"1\" class=\"dataframe\">\n",
       "  <thead>\n",
       "    <tr style=\"text-align: right;\">\n",
       "      <th></th>\n",
       "      <th>PassengerId</th>\n",
       "      <th>Survived</th>\n",
       "      <th>Pclass</th>\n",
       "      <th>Sex</th>\n",
       "      <th>Age</th>\n",
       "      <th>SibSp</th>\n",
       "      <th>Parch</th>\n",
       "      <th>Fare</th>\n",
       "      <th>Embarked</th>\n",
       "    </tr>\n",
       "  </thead>\n",
       "  <tbody>\n",
       "    <tr>\n",
       "      <th>0</th>\n",
       "      <td>1</td>\n",
       "      <td>0</td>\n",
       "      <td>3</td>\n",
       "      <td>Male</td>\n",
       "      <td>22.0</td>\n",
       "      <td>1</td>\n",
       "      <td>0</td>\n",
       "      <td>7.2500</td>\n",
       "      <td>3</td>\n",
       "    </tr>\n",
       "    <tr>\n",
       "      <th>1</th>\n",
       "      <td>2</td>\n",
       "      <td>1</td>\n",
       "      <td>1</td>\n",
       "      <td>female</td>\n",
       "      <td>38.0</td>\n",
       "      <td>1</td>\n",
       "      <td>0</td>\n",
       "      <td>71.2833</td>\n",
       "      <td>1</td>\n",
       "    </tr>\n",
       "    <tr>\n",
       "      <th>2</th>\n",
       "      <td>3</td>\n",
       "      <td>1</td>\n",
       "      <td>3</td>\n",
       "      <td>female</td>\n",
       "      <td>26.0</td>\n",
       "      <td>0</td>\n",
       "      <td>0</td>\n",
       "      <td>7.9250</td>\n",
       "      <td>3</td>\n",
       "    </tr>\n",
       "    <tr>\n",
       "      <th>3</th>\n",
       "      <td>4</td>\n",
       "      <td>1</td>\n",
       "      <td>1</td>\n",
       "      <td>female</td>\n",
       "      <td>35.0</td>\n",
       "      <td>1</td>\n",
       "      <td>0</td>\n",
       "      <td>53.1000</td>\n",
       "      <td>3</td>\n",
       "    </tr>\n",
       "    <tr>\n",
       "      <th>4</th>\n",
       "      <td>5</td>\n",
       "      <td>0</td>\n",
       "      <td>3</td>\n",
       "      <td>Male</td>\n",
       "      <td>35.0</td>\n",
       "      <td>0</td>\n",
       "      <td>0</td>\n",
       "      <td>8.0500</td>\n",
       "      <td>3</td>\n",
       "    </tr>\n",
       "  </tbody>\n",
       "</table>\n",
       "</div>"
      ],
      "text/plain": [
       "   PassengerId  Survived  Pclass     Sex   Age  SibSp  Parch     Fare  \\\n",
       "0            1         0       3    Male  22.0      1      0   7.2500   \n",
       "1            2         1       1  female  38.0      1      0  71.2833   \n",
       "2            3         1       3  female  26.0      0      0   7.9250   \n",
       "3            4         1       1  female  35.0      1      0  53.1000   \n",
       "4            5         0       3    Male  35.0      0      0   8.0500   \n",
       "\n",
       "   Embarked  \n",
       "0         3  \n",
       "1         1  \n",
       "2         3  \n",
       "3         3  \n",
       "4         3  "
      ]
     },
     "execution_count": 126,
     "metadata": {},
     "output_type": "execute_result"
    }
   ],
   "source": [
    "dataset.head()"
   ]
  },
  {
   "attachments": {},
   "cell_type": "markdown",
   "metadata": {},
   "source": [
    "In order to handle possible missing values on the dataset, we search for them in each given category, and plot the number of missing data counted. Since there are none, we won't have to fill any gap."
   ]
  },
  {
   "cell_type": "code",
   "execution_count": 127,
   "metadata": {},
   "outputs": [
    {
     "data": {
      "text/html": [
       "<div>\n",
       "<style scoped>\n",
       "    .dataframe tbody tr th:only-of-type {\n",
       "        vertical-align: middle;\n",
       "    }\n",
       "\n",
       "    .dataframe tbody tr th {\n",
       "        vertical-align: top;\n",
       "    }\n",
       "\n",
       "    .dataframe thead th {\n",
       "        text-align: right;\n",
       "    }\n",
       "</style>\n",
       "<table border=\"1\" class=\"dataframe\">\n",
       "  <thead>\n",
       "    <tr style=\"text-align: right;\">\n",
       "      <th></th>\n",
       "      <th>Total</th>\n",
       "      <th>%</th>\n",
       "    </tr>\n",
       "  </thead>\n",
       "  <tbody>\n",
       "    <tr>\n",
       "      <th>PassengerId</th>\n",
       "      <td>0</td>\n",
       "      <td>0.0</td>\n",
       "    </tr>\n",
       "    <tr>\n",
       "      <th>Survived</th>\n",
       "      <td>0</td>\n",
       "      <td>0.0</td>\n",
       "    </tr>\n",
       "    <tr>\n",
       "      <th>Pclass</th>\n",
       "      <td>0</td>\n",
       "      <td>0.0</td>\n",
       "    </tr>\n",
       "    <tr>\n",
       "      <th>Sex</th>\n",
       "      <td>0</td>\n",
       "      <td>0.0</td>\n",
       "    </tr>\n",
       "    <tr>\n",
       "      <th>Age</th>\n",
       "      <td>0</td>\n",
       "      <td>0.0</td>\n",
       "    </tr>\n",
       "    <tr>\n",
       "      <th>SibSp</th>\n",
       "      <td>0</td>\n",
       "      <td>0.0</td>\n",
       "    </tr>\n",
       "    <tr>\n",
       "      <th>Parch</th>\n",
       "      <td>0</td>\n",
       "      <td>0.0</td>\n",
       "    </tr>\n",
       "    <tr>\n",
       "      <th>Fare</th>\n",
       "      <td>0</td>\n",
       "      <td>0.0</td>\n",
       "    </tr>\n",
       "    <tr>\n",
       "      <th>Embarked</th>\n",
       "      <td>0</td>\n",
       "      <td>0.0</td>\n",
       "    </tr>\n",
       "  </tbody>\n",
       "</table>\n",
       "</div>"
      ],
      "text/plain": [
       "             Total    %\n",
       "PassengerId      0  0.0\n",
       "Survived         0  0.0\n",
       "Pclass           0  0.0\n",
       "Sex              0  0.0\n",
       "Age              0  0.0\n",
       "SibSp            0  0.0\n",
       "Parch            0  0.0\n",
       "Fare             0  0.0\n",
       "Embarked         0  0.0"
      ]
     },
     "execution_count": 127,
     "metadata": {},
     "output_type": "execute_result"
    }
   ],
   "source": [
    "total = dataset.isnull().sum().sort_values(ascending=False)\n",
    "percent_1 = dataset.isnull().sum()/dataset.isnull().count()*100\n",
    "percent_2 = (round(percent_1, 1)).sort_values(ascending=False)\n",
    "missing_data = pd.concat([total, percent_2], axis=1, keys=['Total', '%'])\n",
    "missing_data.head(10)"
   ]
  },
  {
   "attachments": {},
   "cell_type": "markdown",
   "metadata": {},
   "source": [
    "We analyse those that, for us, are most significant feature for our evaluation: Pclass, Sex, Fare"
   ]
  },
  {
   "cell_type": "code",
   "execution_count": 128,
   "metadata": {},
   "outputs": [
    {
     "data": {
      "text/plain": [
       "<seaborn.axisgrid.FacetGrid at 0x15b04006020>"
      ]
     },
     "execution_count": 128,
     "metadata": {},
     "output_type": "execute_result"
    },
    {
     "data": {
      "image/png": "[encoded data removed]",
      "text/plain": [
       "<Figure size 640x480 with 1 Axes>"
      ]
     },
     "metadata": {},
     "output_type": "display_data"
    },
    {
     "data": {
      "image/png": "[encoded data removed]",
      "text/plain": [
       "<Figure size 715.111x660 with 6 Axes>"
      ]
     },
     "metadata": {},
     "output_type": "display_data"
    }
   ],
   "source": [
    "sns.barplot(x='Pclass', y='Survived', data=dataset)\n",
    "grid = sns.FacetGrid(dataset, col='Survived', row='Pclass', height=2.2,aspect=1.6)\n",
    "grid.map(plt.hist, 'Age', alpha=.5, bins=20)\n",
    "grid.add_legend()"
   ]
  },
  {
   "cell_type": "code",
   "execution_count": 129,
   "metadata": {},
   "outputs": [
    {
     "data": {
      "image/png": "[encoded data removed]",
      "text/plain": [
       "<Figure size 1000x400 with 2 Axes>"
      ]
     },
     "metadata": {},
     "output_type": "display_data"
    }
   ],
   "source": [
    "survived = 'survived'\n",
    "not_survived = 'not survived'\n",
    "fig, axes = plt.subplots(nrows=1, ncols=2,figsize=(10, 4))\n",
    "women = dataset[dataset['Sex']=='female']\n",
    "men = dataset[dataset['Sex']=='Male']\n",
    "ax = sns.histplot(women[women['Survived']==1].Age.dropna(), bins=18, label = survived, ax = axes[0], kde =False)\n",
    "ax = sns.histplot(women[women['Survived']==0].Age.dropna(), bins=40, label = not_survived, ax = axes[0], kde =False)\n",
    "ax.legend()\n",
    "ax.set_title('Female')\n",
    "ax = sns.histplot(men[men['Survived']==1].Age.dropna(), bins=18, label = survived, ax = axes[1], kde = False)\n",
    "ax = sns.histplot(men[men['Survived']==0].Age.dropna(), bins=40, label = not_survived, ax = axes[1], kde = False)\n",
    "ax.legend()\n",
    "_ = ax.set_title('Male')"
   ]
  },
  {
   "cell_type": "code",
   "execution_count": 130,
   "metadata": {},
   "outputs": [
    {
     "data": {
      "text/plain": [
       "array([<Axes: ylabel='Survived'>], dtype=object)"
      ]
     },
     "execution_count": 130,
     "metadata": {},
     "output_type": "execute_result"
    },
    {
     "data": {
      "image/png": "[encoded data removed]",
      "text/plain": [
       "<Figure size 1100x600 with 1 Axes>"
      ]
     },
     "metadata": {},
     "output_type": "display_data"
    }
   ],
   "source": [
    "dataset[['Sex', 'Survived']].groupby(['Sex']).mean().plot.pie(subplots=True, figsize=(11, 6),autopct='%1.1f%%')"
   ]
  },
  {
   "cell_type": "code",
   "execution_count": 131,
   "metadata": {},
   "outputs": [
    {
     "data": {
      "image/png": "[encoded data removed]",
      "text/plain": [
       "<Figure size 1200x600 with 2 Axes>"
      ]
     },
     "metadata": {},
     "output_type": "display_data"
    }
   ],
   "source": [
    "fig, axes = plt.subplots(1, 2, figsize=(12, 6))\n",
    "sns.histplot(data=dataset, x=\"Fare\", hue=\"Survived\", multiple=\"stack\", ax=axes[0])\n",
    "axes[0].set_title(\"Fare\")\n",
    "sns.kdeplot(data=dataset, x=\"Fare\", hue=\"Survived\", multiple=\"stack\", ax=axes[1])\n",
    "axes[1].set_title(\"Fare Density\")\n",
    "plt.show()"
   ]
  },
  {
   "attachments": {},
   "cell_type": "markdown",
   "metadata": {},
   "source": [
    "We try to augment the dataset by adding new data to the csv file provided (even though this approach turned out to be unsuccessful). To do it, set augmentation=True at the begin of this script."
   ]
  },
  {
   "cell_type": "code",
   "execution_count": 132,
   "metadata": {},
   "outputs": [],
   "source": [
    "if augmentation:\n",
    "    print(len(dataset))\n",
    "    \n",
    "    for i in range(100):\n",
    "        passenger = 890+(1+i)\n",
    "        survived = np.random.randint(2)\n",
    "        if survived == 0:\n",
    "            sex= 'Male'\n",
    "        if survived ==1 :\n",
    "            sex == 'female'\n",
    "        # sex = random.choice(['Male', 'female'])\n",
    "        Pclass = np.random.randint(1, 4)\n",
    "        age = np.random.randint(25, 55)\n",
    "        SibSp = np.random.randint(2)\n",
    "        parch = 0 # np.random.randint(3)\n",
    "        fare = np.random.randint(45)\n",
    "        embarked = np.random.randint(1, 4)\n",
    "\n",
    "        data= [passenger, survived, Pclass, sex, age, SibSp, parch, fare, embarked]\n",
    "\n",
    "        file_csv = open('titanic.csv', mode='a')\n",
    "        writer = csv.writer(file_csv)\n",
    "        writer.writerow(data)\n",
    "\n",
    "\n",
    "    print(\"Aggiunta dei dati al file CSV completata.\")\n",
    "    dataset = pd.read_csv(\"titanic.csv\")\n",
    "    print(len(dataset))\n",
    "    file_csv.close()"
   ]
  },
  {
   "attachments": {},
   "cell_type": "markdown",
   "metadata": {},
   "source": [
    "By plotting the data through box plots, we can detect the presence of outliers and we procede removing them by checking the z-score for the categories involved."
   ]
  },
  {
   "cell_type": "code",
   "execution_count": 133,
   "metadata": {},
   "outputs": [
    {
     "data": {
      "image/png": "[encoded data removed]",
      "text/plain": [
       "<Figure size 1000x1000 with 4 Axes>"
      ]
     },
     "metadata": {},
     "output_type": "display_data"
    }
   ],
   "source": [
    "numerical_columns = ['Age', 'SibSp', 'Parch', 'Fare']  # Example numerical columns to check for outliers\n",
    "# Create a 4x4 grid of subplots\n",
    "fig, axes = plt.subplots(2, 2, figsize=(10, 10))\n",
    "\n",
    "\n",
    "for i, column in enumerate(numerical_columns):\n",
    "    ax = axes[i // 2, i % 2]  # Get the current subplot\n",
    "    dataset.boxplot(column=column, ax=ax)\n",
    "    ax.set_title(column)\n",
    "\n",
    "plt.show()"
   ]
  },
  {
   "cell_type": "code",
   "execution_count": 134,
   "metadata": {},
   "outputs": [
    {
     "name": "stdout",
     "output_type": "stream",
     "text": [
      "dataset with outliers:  889\n",
      "number of outliers in 'Parch':  15\n",
      "number of outliers in 'SibSp':  30\n",
      "number of outliers in 'Fare':  20\n",
      "total number of outliers:  64\n",
      "dataset without outliers:  825\n"
     ]
    }
   ],
   "source": [
    "threshold = 3  # Set the threshold for Z-score\n",
    "\n",
    "print(\"dataset with outliers: \", len(dataset))\n",
    "\n",
    "z_scores_P = np.abs(stats.zscore(dataset['Parch']))\n",
    "outlier_indices_P = list(np.where(z_scores_P > threshold)[0])\n",
    "print(\"number of outliers in 'Parch': \", len(outlier_indices_P))\n",
    "\n",
    "z_scores_S = np.abs(stats.zscore(dataset['SibSp']))\n",
    "outlier_indices_S = list(np.where(z_scores_S > threshold)[0])\n",
    "print(\"number of outliers in 'SibSp': \", len(outlier_indices_S))\n",
    "\n",
    "z_scores_F = np.abs(stats.zscore(dataset['Fare']))\n",
    "outlier_indices_F = list(np.where(z_scores_F > threshold)[0])\n",
    "print(\"number of outliers in 'Fare': \", len(outlier_indices_F))\n",
    "\n",
    "#Remove outliers\n",
    "outlier_indices = list(set(outlier_indices_P+outlier_indices_S+outlier_indices_F))\n",
    "dataset = dataset.drop(outlier_indices)\n",
    "\n",
    "print(\"total number of outliers: \", len(outlier_indices))\n",
    "print(\"dataset without outliers: \", len(dataset))"
   ]
  },
  {
   "attachments": {},
   "cell_type": "markdown",
   "metadata": {},
   "source": [
    "# 2. Feature Selection and Engineering"
   ]
  },
  {
   "attachments": {},
   "cell_type": "markdown",
   "metadata": {},
   "source": [
    "Now we modify some of the features in our dataset, in order to rewrite them in such a way to be properly elaborated by the learning algorithm. In particular, we transform all our features in integers, and we map the feauture \"Sex\", into a numerical one. "
   ]
  },
  {
   "cell_type": "code",
   "execution_count": 135,
   "metadata": {},
   "outputs": [],
   "source": [
    "dataset['Fare'] = dataset['Fare'].fillna(0)\n",
    "dataset['Fare'] = dataset['Fare'].astype(int)"
   ]
  },
  {
   "cell_type": "code",
   "execution_count": 136,
   "metadata": {},
   "outputs": [],
   "source": [
    "dataset['Age'] = dataset['Age'].fillna(0)\n",
    "dataset['Age'] = dataset['Age'].astype(int)"
   ]
  },
  {
   "cell_type": "code",
   "execution_count": 137,
   "metadata": {},
   "outputs": [],
   "source": [
    "sex_mapping = {\"Male\": 0, \"female\": 1}\n",
    "dataset['Sex'] = dataset['Sex'].map(sex_mapping)"
   ]
  },
  {
   "attachments": {},
   "cell_type": "markdown",
   "metadata": {},
   "source": [
    "We also create some macro categories for the features that are more sparse, such as \"Age\" and \"Fare\""
   ]
  },
  {
   "cell_type": "code",
   "execution_count": 138,
   "metadata": {},
   "outputs": [
    {
     "data": {
      "text/plain": [
       "Age\n",
       "4    229\n",
       "2    191\n",
       "1    155\n",
       "3    138\n",
       "0    112\n",
       "Name: count, dtype: int64"
      ]
     },
     "execution_count": 138,
     "metadata": {},
     "output_type": "execute_result"
    }
   ],
   "source": [
    "dataset.loc[ dataset['Age'] <= 18, 'Age'] = 0\n",
    "dataset.loc[(dataset['Age'] > 18) & (dataset['Age'] <= 25), 'Age'] = 1\n",
    "dataset.loc[(dataset['Age'] > 25) & (dataset['Age'] <= 35), 'Age'] = 2\n",
    "dataset.loc[(dataset['Age'] > 35) & (dataset['Age'] <= 50), 'Age'] = 3\n",
    "dataset.loc[(dataset['Age'] > 50), 'Age'] = 4\n",
    "\n",
    "# let's see how it's distributed \n",
    "dataset['Age'].value_counts()"
   ]
  },
  {
   "cell_type": "code",
   "execution_count": 139,
   "metadata": {},
   "outputs": [
    {
     "data": {
      "text/plain": [
       "Fare\n",
       "1    243\n",
       "0    240\n",
       "3    171\n",
       "2    171\n",
       "Name: count, dtype: int64"
      ]
     },
     "execution_count": 139,
     "metadata": {},
     "output_type": "execute_result"
    }
   ],
   "source": [
    "dataset.loc[ dataset['Fare'] <= 7, 'Fare'] = 0\n",
    "dataset.loc[(dataset['Fare'] > 7) & (dataset['Fare'] <= 15), 'Fare'] = 1\n",
    "dataset.loc[(dataset['Fare'] > 15) & (dataset['Fare'] <= 30), 'Fare']   = 2\n",
    "dataset.loc[(dataset['Fare'] > 30), 'Fare']   = 3\n",
    "\n",
    "\n",
    "dataset['Fare'].value_counts()"
   ]
  },
  {
   "attachments": {},
   "cell_type": "markdown",
   "metadata": {},
   "source": [
    "Additionally, we create a new feature called \"Fare_Per_Person\""
   ]
  },
  {
   "cell_type": "code",
   "execution_count": 140,
   "metadata": {},
   "outputs": [
    {
     "data": {
      "text/plain": [
       "Fare_Per_Person\n",
       "0    377\n",
       "1    328\n",
       "2     62\n",
       "3     58\n",
       "Name: count, dtype: int64"
      ]
     },
     "execution_count": 140,
     "metadata": {},
     "output_type": "execute_result"
    }
   ],
   "source": [
    "dataset['Fare_Per_Person'] = dataset['Fare']/(dataset['Parch']+dataset['SibSp']+1)\n",
    "dataset['Fare_Per_Person'] = dataset['Fare_Per_Person'].astype(int)\n",
    "dataset['Fare_Per_Person'].value_counts()"
   ]
  },
  {
   "attachments": {},
   "cell_type": "markdown",
   "metadata": {},
   "source": [
    "We delete also those features that we don't consider as relevant for our specific case, which are \"PassengerId\" and \"Embarked\""
   ]
  },
  {
   "cell_type": "code",
   "execution_count": 141,
   "metadata": {},
   "outputs": [],
   "source": [
    "dataset = dataset.drop(\"PassengerId\", axis=1)\n",
    "dataset = dataset.drop(\"Embarked\", axis=1)\n",
    "\n",
    "#We tried to eliminate \"Parch\" and \"SibSp\" too, but this choice led to worse results\n",
    "# dataset = dataset.drop(\"Parch\", axis=1)\n",
    "# dataset = dataset.drop(\"SibSp\", axis=1)"
   ]
  },
  {
   "attachments": {},
   "cell_type": "markdown",
   "metadata": {},
   "source": [
    "# 3. Model development and Evaluation"
   ]
  },
  {
   "attachments": {},
   "cell_type": "markdown",
   "metadata": {},
   "source": [
    "Now we divide our dataset into a Train set and a Test set, respectevely with 80% and 20% of the samples. Then we generate the data for training and testing by removing the \"Survived\" class from the two sets obtained, while we generate the respective labels by selecting only such variable in the two sets obtained"
   ]
  },
  {
   "cell_type": "code",
   "execution_count": 142,
   "metadata": {},
   "outputs": [
    {
     "name": "stdout",
     "output_type": "stream",
     "text": [
      "Dimension of the train set: (660, 8)\n",
      "Dimension of the test set: (165, 8)\n"
     ]
    }
   ],
   "source": [
    "train, test = train_test_split(dataset, test_size=0.2, random_state=42)\n",
    "print(\"Dimension of the train set:\",train.shape)\n",
    "print(\"Dimension of the test set:\", test.shape)\n",
    "X_train = train.drop(\"Survived\", axis=1)\n",
    "Y_train = train[\"Survived\"]\n",
    "X_test = test.drop(\"Survived\", axis=1)\n",
    "Y_test = test[\"Survived\"]\n"
   ]
  },
  {
   "attachments": {},
   "cell_type": "markdown",
   "metadata": {},
   "source": [
    "Let's now train our data using different tools. We will select the one(s) which performs better."
   ]
  },
  {
   "cell_type": "code",
   "execution_count": 143,
   "metadata": {},
   "outputs": [
    {
     "data": {
      "text/html": [
       "<div>\n",
       "<style scoped>\n",
       "    .dataframe tbody tr th:only-of-type {\n",
       "        vertical-align: middle;\n",
       "    }\n",
       "\n",
       "    .dataframe tbody tr th {\n",
       "        vertical-align: top;\n",
       "    }\n",
       "\n",
       "    .dataframe thead th {\n",
       "        text-align: right;\n",
       "    }\n",
       "</style>\n",
       "<table border=\"1\" class=\"dataframe\">\n",
       "  <thead>\n",
       "    <tr style=\"text-align: right;\">\n",
       "      <th></th>\n",
       "      <th>Model</th>\n",
       "    </tr>\n",
       "    <tr>\n",
       "      <th>Score</th>\n",
       "      <th></th>\n",
       "    </tr>\n",
       "  </thead>\n",
       "  <tbody>\n",
       "    <tr>\n",
       "      <th>87.58</th>\n",
       "      <td>Random Forest</td>\n",
       "    </tr>\n",
       "    <tr>\n",
       "      <th>87.58</th>\n",
       "      <td>Decision Tree</td>\n",
       "    </tr>\n",
       "    <tr>\n",
       "      <th>79.24</th>\n",
       "      <td>Support Vector Machines</td>\n",
       "    </tr>\n",
       "    <tr>\n",
       "      <th>59.85</th>\n",
       "      <td>Stochastic Gradient Descent</td>\n",
       "    </tr>\n",
       "  </tbody>\n",
       "</table>\n",
       "</div>"
      ],
      "text/plain": [
       "                             Model\n",
       "Score                             \n",
       "87.58                Random Forest\n",
       "87.58                Decision Tree\n",
       "79.24      Support Vector Machines\n",
       "59.85  Stochastic Gradient Descent"
      ]
     },
     "execution_count": 143,
     "metadata": {},
     "output_type": "execute_result"
    }
   ],
   "source": [
    "#Random Forest\n",
    "random_forest = RandomForestClassifier(n_estimators=100)\n",
    "random_forest.fit(X_train, Y_train)\n",
    "acc_random_forest = round(random_forest.score(X_train, Y_train) * 100, 2)\n",
    "\n",
    "#Decision Tree\n",
    "decision_tree = DecisionTreeClassifier() \n",
    "decision_tree.fit(X_train, Y_train) \n",
    "acc_decision_tree = round(decision_tree.score(X_train, Y_train) * 100, 2)\n",
    "\n",
    "#Linear Support Vector Machine\n",
    "linear_svc = LinearSVC(max_iter =2000)\n",
    "linear_svc.fit(X_train, Y_train)\n",
    "acc_linear_svc = round(linear_svc.score(X_train, Y_train) * 100, 2)\n",
    "\n",
    "#Stochastic Gradient Descent\n",
    "sgd = SGDClassifier(max_iter=5, tol=None)\n",
    "sgd.fit(X_train, Y_train)\n",
    "acc_sgd = round(sgd.score(X_train, Y_train) * 100, 2)\n",
    "\n",
    "results = pd.DataFrame({\n",
    "    'Model': [ 'Random Forest', \n",
    "              'Decision Tree',\n",
    "              'Support Vector Machines',\n",
    "              'Stochastic Gradient Descent'],\n",
    "    'Score': [acc_random_forest,\n",
    "              acc_decision_tree,\n",
    "              acc_linear_svc,\n",
    "              acc_sgd]})\n",
    "result_df = results.sort_values(by='Score', ascending=False)\n",
    "result_df = result_df.set_index('Score')\n",
    "result_df.head(5)\n"
   ]
  },
  {
   "attachments": {},
   "cell_type": "markdown",
   "metadata": {},
   "source": [
    "The best results have been obtained using Random Forest and Decision Tree algorithms"
   ]
  },
  {
   "attachments": {},
   "cell_type": "markdown",
   "metadata": {},
   "source": [
    "Next, we check the importance the different features have during the training process, in order to eliminate the useless ones (if any)"
   ]
  },
  {
   "cell_type": "code",
   "execution_count": 144,
   "metadata": {},
   "outputs": [
    {
     "data": {
      "text/html": [
       "<div>\n",
       "<style scoped>\n",
       "    .dataframe tbody tr th:only-of-type {\n",
       "        vertical-align: middle;\n",
       "    }\n",
       "\n",
       "    .dataframe tbody tr th {\n",
       "        vertical-align: top;\n",
       "    }\n",
       "\n",
       "    .dataframe thead th {\n",
       "        text-align: right;\n",
       "    }\n",
       "</style>\n",
       "<table border=\"1\" class=\"dataframe\">\n",
       "  <thead>\n",
       "    <tr style=\"text-align: right;\">\n",
       "      <th></th>\n",
       "      <th>DT feature importance</th>\n",
       "    </tr>\n",
       "    <tr>\n",
       "      <th>feature</th>\n",
       "      <th></th>\n",
       "    </tr>\n",
       "  </thead>\n",
       "  <tbody>\n",
       "    <tr>\n",
       "      <th>Sex</th>\n",
       "      <td>0.460</td>\n",
       "    </tr>\n",
       "    <tr>\n",
       "      <th>Pclass</th>\n",
       "      <td>0.150</td>\n",
       "    </tr>\n",
       "    <tr>\n",
       "      <th>Age</th>\n",
       "      <td>0.119</td>\n",
       "    </tr>\n",
       "    <tr>\n",
       "      <th>Parch</th>\n",
       "      <td>0.084</td>\n",
       "    </tr>\n",
       "    <tr>\n",
       "      <th>Fare</th>\n",
       "      <td>0.078</td>\n",
       "    </tr>\n",
       "    <tr>\n",
       "      <th>Fare_Per_Person</th>\n",
       "      <td>0.061</td>\n",
       "    </tr>\n",
       "    <tr>\n",
       "      <th>SibSp</th>\n",
       "      <td>0.048</td>\n",
       "    </tr>\n",
       "  </tbody>\n",
       "</table>\n",
       "</div>"
      ],
      "text/plain": [
       "                 DT feature importance\n",
       "feature                               \n",
       "Sex                              0.460\n",
       "Pclass                           0.150\n",
       "Age                              0.119\n",
       "Parch                            0.084\n",
       "Fare                             0.078\n",
       "Fare_Per_Person                  0.061\n",
       "SibSp                            0.048"
      ]
     },
     "execution_count": 144,
     "metadata": {},
     "output_type": "execute_result"
    }
   ],
   "source": [
    "importances = pd.DataFrame({'feature':X_train.columns,'DT feature importance':np.round(decision_tree.feature_importances_,3)})\n",
    "importances = importances.sort_values('DT feature importance',ascending=False).set_index('feature')\n",
    "importances.head(7)"
   ]
  },
  {
   "cell_type": "code",
   "execution_count": 145,
   "metadata": {},
   "outputs": [
    {
     "data": {
      "text/html": [
       "<div>\n",
       "<style scoped>\n",
       "    .dataframe tbody tr th:only-of-type {\n",
       "        vertical-align: middle;\n",
       "    }\n",
       "\n",
       "    .dataframe tbody tr th {\n",
       "        vertical-align: top;\n",
       "    }\n",
       "\n",
       "    .dataframe thead th {\n",
       "        text-align: right;\n",
       "    }\n",
       "</style>\n",
       "<table border=\"1\" class=\"dataframe\">\n",
       "  <thead>\n",
       "    <tr style=\"text-align: right;\">\n",
       "      <th></th>\n",
       "      <th>RF feature importance</th>\n",
       "    </tr>\n",
       "    <tr>\n",
       "      <th>feature</th>\n",
       "      <th></th>\n",
       "    </tr>\n",
       "  </thead>\n",
       "  <tbody>\n",
       "    <tr>\n",
       "      <th>Sex</th>\n",
       "      <td>0.405</td>\n",
       "    </tr>\n",
       "    <tr>\n",
       "      <th>Age</th>\n",
       "      <td>0.177</td>\n",
       "    </tr>\n",
       "    <tr>\n",
       "      <th>Pclass</th>\n",
       "      <td>0.133</td>\n",
       "    </tr>\n",
       "    <tr>\n",
       "      <th>Fare</th>\n",
       "      <td>0.103</td>\n",
       "    </tr>\n",
       "    <tr>\n",
       "      <th>SibSp</th>\n",
       "      <td>0.068</td>\n",
       "    </tr>\n",
       "    <tr>\n",
       "      <th>Parch</th>\n",
       "      <td>0.066</td>\n",
       "    </tr>\n",
       "    <tr>\n",
       "      <th>Fare_Per_Person</th>\n",
       "      <td>0.048</td>\n",
       "    </tr>\n",
       "  </tbody>\n",
       "</table>\n",
       "</div>"
      ],
      "text/plain": [
       "                 RF feature importance\n",
       "feature                               \n",
       "Sex                              0.405\n",
       "Age                              0.177\n",
       "Pclass                           0.133\n",
       "Fare                             0.103\n",
       "SibSp                            0.068\n",
       "Parch                            0.066\n",
       "Fare_Per_Person                  0.048"
      ]
     },
     "execution_count": 145,
     "metadata": {},
     "output_type": "execute_result"
    }
   ],
   "source": [
    "importances = pd.DataFrame({'feature':X_train.columns,'RF feature importance':np.round(random_forest.feature_importances_,3)})\n",
    "importances = importances.sort_values('RF feature importance',ascending=False).set_index('feature')\n",
    "importances.head(7)"
   ]
  },
  {
   "attachments": {},
   "cell_type": "markdown",
   "metadata": {},
   "source": [
    "As every features seems quite important in both cases, we decide to maintain all of them"
   ]
  },
  {
   "attachments": {},
   "cell_type": "markdown",
   "metadata": {},
   "source": [
    "We evaluate the performances of the best models by computing the Precisoin, Recall and F-score on the prediction. "
   ]
  },
  {
   "cell_type": "code",
   "execution_count": 146,
   "metadata": {},
   "outputs": [
    {
     "name": "stdout",
     "output_type": "stream",
     "text": [
      "RANDOM FOREST:\n",
      "Precision: 88.84 %\n",
      "Recall: 77.73 %\n",
      "F-score: 82.92 %\n",
      "\n",
      "DECISION TREE:\n",
      "Precision: 91.04 %\n",
      "Recall: 75.39 %\n",
      "F-score: 82.48 %\n"
     ]
    }
   ],
   "source": [
    "print(\"RANDOM FOREST:\")\n",
    "prediction_rf = random_forest.predict(X_train)\n",
    "print(f\"Precision: {round(precision_score(Y_train, prediction_rf)*100 ,2)} %\" )\n",
    "print(f\"Recall: {round(recall_score(Y_train, prediction_rf)*100, 2 )} %\")\n",
    "print(f\"F-score: {round(f1_score(Y_train, prediction_rf)*100, 2)} %\" )\n",
    "\n",
    "print(\"\\nDECISION TREE:\")\n",
    "prediction_dt = decision_tree.predict(X_train)\n",
    "print(f\"Precision: {round(precision_score(Y_train, prediction_dt)*100 ,2)} %\" )\n",
    "print(f\"Recall: {round(recall_score(Y_train, prediction_dt)*100, 2 )} %\")\n",
    "print(f\"F-score: {round(f1_score(Y_train, prediction_dt)*100, 2)} %\" )"
   ]
  },
  {
   "attachments": {},
   "cell_type": "markdown",
   "metadata": {},
   "source": [
    "Also, we perform K-Fold Cross Validation in order to see how the models generalize and perform on unseen data"
   ]
  },
  {
   "cell_type": "code",
   "execution_count": 74,
   "metadata": {},
   "outputs": [
    {
     "name": "stdout",
     "output_type": "stream",
     "text": [
      "VALIDATION ON RANDOM FOREST\n",
      "Scores: [0.81818182 0.8        0.76969697 0.81818182]\n",
      "Mean: 80.15151515151516 %\n",
      "Standard Deviation: 1.981317701609401 %\n",
      "\n",
      "VALIDATION ON DECISION TREE\n",
      "Scores: [0.84242424 0.81212121 0.73939394 0.80606061]\n",
      "Mean: 80.0 %\n",
      "Standard Deviation: 3.760507165451775 %\n"
     ]
    }
   ],
   "source": [
    "#Choosing K=4\n",
    "\n",
    "print(\"VALIDATION ON RANDOM FOREST\")\n",
    "rf = RandomForestClassifier(n_estimators=100)\n",
    "scores = cross_val_score(rf, X_train, Y_train, cv=4, scoring = \"accuracy\")\n",
    "print(\"Scores:\", scores)\n",
    "print(f\"Mean: {scores.mean()*100} %\")\n",
    "print(f\"Standard Deviation: {scores.std()*100} %\")\n",
    "\n",
    "\n",
    "print(\"\\nVALIDATION ON DECISION TREE\")\n",
    "dt = DecisionTreeClassifier()\n",
    "scores = cross_val_score(dt, X_train, Y_train, cv=4, scoring = \"accuracy\")\n",
    "print(\"Scores:\", scores)\n",
    "print(f\"Mean: {scores.mean()*100} %\")\n",
    "print(f\"Standard Deviation: {scores.std()*100} %\")"
   ]
  },
  {
   "attachments": {},
   "cell_type": "markdown",
   "metadata": {},
   "source": [
    "Finally, we try to fine-tuning the model using the GridSearchCV tool of scikit-learn for both the models."
   ]
  },
  {
   "cell_type": "code",
   "execution_count": 437,
   "metadata": {},
   "outputs": [
    {
     "name": "stdout",
     "output_type": "stream",
     "text": [
      "FINE TUNING ON DECISION TREE\n"
     ]
    },
    {
     "name": "stdout",
     "output_type": "stream",
     "text": [
      "{'criterion': 'gini', 'max_depth': 5, 'min_samples_leaf': 10, 'min_samples_split': 2, 'random_state': 1, 'splitter': 'random'}\n",
      "Accuracy on Training set: 82.57575757575758  %\n"
     ]
    }
   ],
   "source": [
    "print(\"FINE TUNING ON DECISION TREE\")\n",
    "param_grid = { \"criterion\" : [\"gini\", \"entropy\",\"log_loss\"], \n",
    "              \"splitter\" : ['best', 'random'],\n",
    "              \"min_samples_leaf\" : [1, 5, 10], \n",
    "              \"min_samples_split\" : [2, 4, 10], \n",
    "              \"max_depth\": [None, 5, 10],\n",
    "              \"random_state\": [None, 1, 42],}\n",
    "dt = DecisionTreeClassifier()\n",
    "clf = GridSearchCV(estimator=dt, param_grid=param_grid, n_jobs=-1)\n",
    "\n",
    "clf.fit(X_train, Y_train)\n",
    "print(clf.best_params_)\n",
    "\n",
    "acc_clf = clf.score(X_train, Y_train)*100\n",
    "print(f\"Accuracy on Training set: {acc_clf}  %\")\n"
   ]
  },
  {
   "cell_type": "code",
   "execution_count": 438,
   "metadata": {},
   "outputs": [
    {
     "name": "stdout",
     "output_type": "stream",
     "text": [
      "FINE TUNING ON RANDOM FOREST\n",
      "{'criterion': 'gini', 'min_samples_leaf': 5, 'min_samples_split': 35, 'n_estimators': 400}\n",
      "Accuracy on Training set: 82.12121212121211 %\n"
     ]
    }
   ],
   "source": [
    "print(\"FINE TUNING ON RANDOM FOREST\")\n",
    "param_grid = { \"criterion\" : [\"gini\", \"entropy\"], \n",
    "              \"min_samples_leaf\" : [1, 5, 10, 25, 50, 70], \n",
    "              \"min_samples_split\" : [2, 4, 10, 12, 16, 18, 25, 35],\n",
    "               \"n_estimators\": [100, 400, 700, 1000, 1500]}\n",
    "\n",
    "\n",
    "rf = RandomForestClassifier(n_estimators=100, max_features='sqrt', oob_score=True, random_state=1, n_jobs=-1)\n",
    "clf = GridSearchCV(estimator=rf, param_grid=param_grid, n_jobs=-1)\n",
    "\n",
    "clf.fit(X_train, Y_train)\n",
    "print(clf.best_params_)\n",
    "\n",
    "acc_clf = clf.score(X_train, Y_train)*100\n",
    "print(f\"Accuracy on Training set: {acc_clf} %\")\n"
   ]
  },
  {
   "attachments": {},
   "cell_type": "markdown",
   "metadata": {},
   "source": [
    "# 4. Prediction and Interpretation\n",
    "\n",
    "Now we can use the best model obtained so far to our test set, in oder to predict the survival rate of a passenger. Then we evaulate the resulting accuracy."
   ]
  },
  {
   "cell_type": "code",
   "execution_count": 76,
   "metadata": {},
   "outputs": [
    {
     "name": "stdout",
     "output_type": "stream",
     "text": [
      "DECISION TREE:\n",
      "Training accuracy: 87.58 %\n",
      "Test accuracy: 81.21 %\n",
      "\n",
      "RANDOM FOREST:\n",
      "Training accuracy: 87.58 %\n",
      "Test accuracy: 84.24 %\n"
     ]
    }
   ],
   "source": [
    "print(\"DECISION TREE:\")\n",
    "decision_tree = DecisionTreeClassifier()\n",
    "decision_tree.fit(X_train, Y_train)\n",
    "decision_tree.score(X_train, Y_train)\n",
    "\n",
    "acc_decision_tree = decision_tree.score(X_train, Y_train)*100\n",
    "print(f\"Training accuracy: {round(acc_decision_tree, 2)} %\")\n",
    "\n",
    "\n",
    "Y_pred = decision_tree.predict(X_test)\n",
    "acc_decision_tree_pred = accuracy_score(Y_test, Y_pred)*100\n",
    "print(f\"Test accuracy: {round(acc_decision_tree_pred, 2)} %\")\n",
    "\n",
    "print(\"\\nRANDOM FOREST:\")\n",
    "random_forest = RandomForestClassifier(n_estimators=100, oob_score=True, random_state=1, n_jobs=-1)\n",
    "random_forest.fit(X_train, Y_train)\n",
    "random_forest.score(X_train, Y_train)\n",
    "\n",
    "acc_random_forest = random_forest.score(X_train, Y_train)*100\n",
    "print(f\"Training accuracy: {round(acc_random_forest, 2)} %\")\n",
    "\n",
    "\n",
    "Y_pred = random_forest.predict(X_test)\n",
    "acc_random_forest_pred = accuracy_score(Y_test, Y_pred)*100\n",
    "print(f\"Test accuracy: {round(acc_random_forest_pred, 2)} %\")\n"
   ]
  },
  {
   "attachments": {},
   "cell_type": "markdown",
   "metadata": {},
   "source": [
    "In the end, the Random Forest model results to be the best option. So, we conclude by computing further evaluations on such model only. "
   ]
  },
  {
   "attachments": {},
   "cell_type": "markdown",
   "metadata": {},
   "source": [
    "In particular, we calculate the Confusion Matrix of both the train and the test sets "
   ]
  },
  {
   "cell_type": "code",
   "execution_count": 77,
   "metadata": {},
   "outputs": [
    {
     "data": {
      "image/png": "[encoded data removed]",
      "text/plain": [
       "<Figure size 1000x500 with 4 Axes>"
      ]
     },
     "metadata": {},
     "output_type": "display_data"
    }
   ],
   "source": [
    "predictions = cross_val_predict(random_forest, X_train, Y_train, cv=3)\n",
    "cm = confusion_matrix(Y_train, predictions)\n",
    "\n",
    "predictions_test = cross_val_predict(random_forest, X_test, Y_test, cv=3)\n",
    "cm_test = confusion_matrix(Y_test, predictions_test)\n",
    "\n",
    "fig, axes = plt.subplots(1, 2, figsize=(10, 5))\n",
    "\n",
    "sns.heatmap(cm, annot=True, fmt=\"d\", cmap=\"Blues\", ax=axes[0])\n",
    "axes[0].set_title(\"Confusion Matrix Train\")\n",
    "axes[0].set_xlabel(\"Predicted Labels\")\n",
    "axes[0].set_ylabel(\"True Labels\")\n",
    "\n",
    "sns.heatmap(cm_test, annot=True, fmt=\"d\", cmap=\"Reds\", ax=axes[1])\n",
    "axes[1].set_title(\"Confusion Matrix Test\")\n",
    "axes[1].set_xlabel(\"Predicted Labels\")\n",
    "axes[1].set_ylabel(\"True Labels\")\n",
    "\n",
    "# Show the plot\n",
    "plt.show()"
   ]
  },
  {
   "attachments": {},
   "cell_type": "markdown",
   "metadata": {},
   "source": [
    "And the Precision, Recall and F-score values obtained over the test set"
   ]
  },
  {
   "cell_type": "code",
   "execution_count": 78,
   "metadata": {},
   "outputs": [
    {
     "name": "stdout",
     "output_type": "stream",
     "text": [
      "\n",
      "TEST:\n",
      "Precision: 86.27 %\n",
      "Recall: 69.84 %\n",
      "F-score: 77.19 %\n"
     ]
    }
   ],
   "source": [
    "print(\"\\nTEST:\")\n",
    "print(f\"Precision: {round(precision_score(Y_test, Y_pred)*100, 2)} %\" )\n",
    "print(f\"Recall: {round(recall_score(Y_test, Y_pred)*100, 2)} %\" )\n",
    "print(f\"F-score: {round(f1_score(Y_test, Y_pred)*100, 2)} %\" )"
   ]
  }
 ],
 "metadata": {
  "kernelspec": {
   "display_name": "Python 3",
   "language": "python",
   "name": "python3"
  },
  "language_info": {
   "codemirror_mode": {
    "name": "ipython",
    "version": 3
   },
   "file_extension": ".py",
   "mimetype": "text/x-python",
   "name": "python",
   "nbconvert_exporter": "python",
   "pygments_lexer": "ipython3",
   "version": "3.10.11"
  },
  "orig_nbformat": 4
 },
 "nbformat": 4,
 "nbformat_minor": 2
}
