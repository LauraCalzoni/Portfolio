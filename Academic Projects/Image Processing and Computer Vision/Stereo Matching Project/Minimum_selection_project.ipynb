{
 "cells": [
  {
   "cell_type": "markdown",
   "id": "6379035d",
   "metadata": {},
   "source": [
    "# Rejection of ambiguous minimum"
   ]
  },
  {
   "cell_type": "markdown",
   "id": "d358f040",
   "metadata": {},
   "source": [
    "### Optional part (2)"
   ]
  },
  {
   "cell_type": "markdown",
   "id": "4ea960ed",
   "metadata": {},
   "source": [
    "In this file we tried to improve the performance of our baseline algorithm discarding the matches when the SAD provided an ambiguous minimum. The data reported in the corresponding section of the report refer to these results."
   ]
  },
  {
   "cell_type": "code",
   "execution_count": null,
   "id": "0c7d3c38",
   "metadata": {},
   "outputs": [],
   "source": [
    "import numpy as np\n",
    "import cv2\n",
    "from matplotlib import pyplot as plt\n"
   ]
  },
  {
   "cell_type": "code",
   "execution_count": null,
   "id": "4a25c089",
   "metadata": {},
   "outputs": [],
   "source": [
    "def open_img(img):\n",
    "    image=cv2.imread(img, cv2.IMREAD_GRAYSCALE)\n",
    "    copied_image= np.copy(image)\n",
    "    plt.imshow(copied_image, cmap='gray', vmin=0, vmax=255)\n",
    "    plt.show()\n",
    "    \n",
    "    return copied_image\n",
    "\n",
    "\n",
    "#functions for SAD implementation\n",
    "def AD_left(imgL, imgR, i, j, disp, m, n):\n",
    "    S=np.abs(int(imgL[i+m, j+n])-int(imgR[i+m, j+n+disp]))\n",
    "    \n",
    "    return S\n",
    "\n",
    "\n",
    "#function to calculate the mapping error taking into account invalid pixels\n",
    "def Error2( target, img, w, h, m, scale_factor, v_pixel, d_max, ig_border):\n",
    "    error=0\n",
    "    for j in range(m+d_max, w-m-d_max-ig_border):\n",
    "        for i in range(m, h-m-ig_border):\n",
    "            if(img[i,j]!=255):\n",
    "                if(abs(target[i, j]/scale_factor - img[i, j]/scale_factor)>1):\n",
    "                    error=error+1\n",
    "    \n",
    "    return (error/v_pixel)"
   ]
  },
  {
   "cell_type": "markdown",
   "id": "ee1d3d8f",
   "metadata": {},
   "source": [
    "The following lines implement the loading of the various images the dataset provided. As a consequence, please gradually markdown the blocks in succession, in orther to work only with the disired image each time."
   ]
  },
  {
   "cell_type": "markdown",
   "id": "334b34c5",
   "metadata": {},
   "source": [
    "###### Map"
   ]
  },
  {
   "cell_type": "code",
   "execution_count": null,
   "id": "75263bc6",
   "metadata": {},
   "outputs": [],
   "source": [
    "mapL= open_img(\"map/im1.pgm\")\n",
    "mapR= open_img(\"map/im0.pgm\")\n",
    "mapG= open_img(\"map/disp1.pgm\")\n",
    "\n",
    "#parameters\n",
    "disp_min =0\n",
    "disp_max =29\n",
    "disp_scale =8\n",
    "ignore_border =0\n",
    "\n",
    "#image shape values\n",
    "img_raw=mapL.shape[0]\n",
    "img_column=mapL.shape[1]\n",
    "\n",
    "imageL=mapL\n",
    "imageR=mapR"
   ]
  },
  {
   "cell_type": "markdown",
   "id": "c97d1b01",
   "metadata": {},
   "source": [
    "###### Sawtooth"
   ]
  },
  {
   "cell_type": "markdown",
   "id": "17d1e35c",
   "metadata": {},
   "source": [
    "sawtoothL= open_img(\"sawtooth/im6.ppm\")\n",
    "sawtoothR= open_img(\"sawtooth/im2.ppm\")\n",
    "sawtoothG= open_img(\"sawtooth/disp6.pgm\")\n",
    "\n",
    "disp_min =0\n",
    "disp_max =19\n",
    "disp_scale= 8\n",
    "ignore_border= 0\n",
    "\n",
    "#image shape values\n",
    "img_raw=sawtoothL.shape[0]\n",
    "img_column=sawtoothL.shape[1]\n",
    "\n",
    "imageL=sawtoothL\n",
    "imageR=sawtoothR"
   ]
  },
  {
   "cell_type": "markdown",
   "id": "c8706911",
   "metadata": {},
   "source": [
    "###### Tsukuba"
   ]
  },
  {
   "cell_type": "markdown",
   "id": "81d59d82",
   "metadata": {},
   "source": [
    "tsukubaL= open_img(\"tsukuba/scene1.row3.col3.ppm\")\n",
    "tsukubahR= open_img(\"tsukuba/scene1.row3.col2.ppm\")\n",
    "tsukubaG= open_img(\"tsukuba/truedisp.row3.col3.pgm\")\n",
    "\n",
    "disp_min =0\n",
    "disp_max =15\n",
    "disp_scale= 16\n",
    "ignore_border= 18\n",
    "\n",
    "#image shape values\n",
    "img_raw=tsukubaL.shape[0]\n",
    "img_column=tsukubaL.shape[1]\n",
    "\n",
    "imageL=tsukubaL\n",
    "imageR=tsukubahR"
   ]
  },
  {
   "cell_type": "markdown",
   "id": "f5f46fd6",
   "metadata": {},
   "source": [
    "###### Venus"
   ]
  },
  {
   "cell_type": "markdown",
   "id": "14a4cecd",
   "metadata": {},
   "source": [
    "venusL= open_img(\"venus/im6.ppm\")\n",
    "venusR= open_img(\"venus/im2.ppm\")\n",
    "venusG= open_img(\"venus/disp6.pgm\")\n",
    "\n",
    "disp_min=0\n",
    "disp_max =19\n",
    "disp_scale= 8\n",
    "\n",
    "ignore_border= 0\n",
    "\n",
    "img_raw=venusL.shape[0]\n",
    "img_column=venusL.shape[1]\n",
    "\n",
    "imageL=venusL\n",
    "imageR=venusR"
   ]
  },
  {
   "cell_type": "markdown",
   "id": "26ecbd37",
   "metadata": {},
   "source": [
    "Now the supporting window'size is chosen. As we have explained in the report, we have tried multiple values, seeking for the better one that fits each image. According to our experimental results K=3 best fits Map and Sawtooth, while K=4 should be selected for Tsukuba and Venus."
   ]
  },
  {
   "cell_type": "code",
   "execution_count": null,
   "id": "abc1b569",
   "metadata": {},
   "outputs": [],
   "source": [
    "#window shape\n",
    "K=3\n",
    "\n",
    "MapL=np.zeros((img_raw, img_column), dtype=np.uint8)"
   ]
  },
  {
   "cell_type": "markdown",
   "id": "383bfdc4",
   "metadata": {},
   "source": [
    "The algorithm used is identical to the base one until the saving of the disparity values calculated for a pixel within the disparity range. Then, these values are sorted in ascending order and the match is considered valid if the difference of the first element of the vector (minimum) with the third one is greater than a certain threshold, set at 10%."
   ]
  },
  {
   "cell_type": "code",
   "execution_count": null,
   "id": "c4d022dc",
   "metadata": {},
   "outputs": [],
   "source": [
    "#in order to get every pixels' position in the image we compute two loops \n",
    "disp=0\n",
    "valid_pixel=0\n",
    "for i in range(K, img_raw-K-ignore_border):\n",
    "    for j in range(K+disp_max, img_column-K-ignore_border-disp_max): \n",
    "        #We select the pixel and move along its raw\n",
    "        min_SAD=500000\n",
    "       \n",
    "        #moving along the epipolar line\n",
    "        x=0\n",
    "        sad_array=np.zeros(disp_max+1-disp_min)\n",
    "        for d in range(disp_min, disp_max+1):\n",
    "            SAD=0\n",
    "            for m in range(-K, K+1):\n",
    "                for n in range(-K, K+1):\n",
    "                    SAD=SAD+AD_left(imageL, imageR, i, j, d, m, n)\n",
    "                    \n",
    "            #for each disparity value save the SAD obtained in an array\n",
    "            sad_array[x]=SAD\n",
    "            x=x+1\n",
    "            \n",
    "            if(SAD<=min_SAD):\n",
    "                min_SAD=SAD\n",
    "                disp=d \n",
    "                \n",
    "        #sort the array and mark the match as invalid (white) if the minimum is not sharp enough\n",
    "        sad_array=np.sort(sad_array)\n",
    "        if ((sad_array[2]-sad_array[0])<0.1*sad_array[0]):\n",
    "            disp=255/disp_scale\n",
    "        else:\n",
    "            valid_pixel=valid_pixel+1\n",
    "            \n",
    "        \n",
    "        MapL[i,j]=np.asarray([disp*disp_scale])\n",
    "\n",
    "print(\"Left map\")\n",
    "plt.imshow(MapL, cmap='gray', vmin=0, vmax=255)\n",
    "plt.show()\n",
    "\n",
    "total_pixel= (img_column-ignore_border-2*disp_max-2*K)*(img_raw-ignore_border-2*K)\n",
    "print(\"percentage of invalid pixels in the image\", 1-(valid_pixel/total_pixel))"
   ]
  },
  {
   "cell_type": "markdown",
   "id": "50d2c683",
   "metadata": {},
   "source": [
    "The mapping error is computed. Again, as now not all the pixels feature a valid disparity value, the standard Error function has been modified in order to take that into account. The line of interest should be uncommented."
   ]
  },
  {
   "cell_type": "code",
   "execution_count": null,
   "id": "b366d6a1",
   "metadata": {},
   "outputs": [],
   "source": [
    "mapping_error=Error2(mapG,MapL,img_column,img_raw,K, disp_scale, valid_pixel, disp_max,ignore_border)\n",
    "#mapping_error=Error2(sawtoothG,MapL,img_column,img_raw,K, disp_scale, valid_pixel, disp_max, ignore_border)\n",
    "#mapping_error=Error2(tsukubaG,MapL,img_column,img_raw,K, disp_scale,valid_pixel, disp_max, ignore_border)\n",
    "#mapping_error=Error2(venusG,MapL,img_column,img_raw,K, disp_scale, valid_pixel, disp_max, ignore_border)\n",
    "\n",
    "print(\"the mapping error is:\\n\", mapping_error)"
   ]
  },
  {
   "cell_type": "markdown",
   "id": "6464f4d3",
   "metadata": {},
   "source": [
    "If desired, the obtained disparity map could be saved uncommenting and executing the following code."
   ]
  },
  {
   "cell_type": "code",
   "execution_count": null,
   "id": "7d8ec20b",
   "metadata": {},
   "outputs": [],
   "source": [
    "#cv2.imwrite(\"disparity_map_minimum.png\", MapL)\n",
    "#cv2.imwrite(\"disparity_sawtooth_minimum.png\", MapL)\n",
    "#cv2.imwrite(\"disparity_tsukuba_minimum.png\", MapL)\n",
    "#cv2.imwrite(\"disparity_venus_minimum.png\", MapL)"
   ]
  },
  {
   "cell_type": "markdown",
   "id": "87ec5cc2",
   "metadata": {},
   "source": []
  }
 ],
 "metadata": {
  "kernelspec": {
   "display_name": "Python 3 (ipykernel)",
   "language": "python",
   "name": "python3"
  },
  "language_info": {
   "codemirror_mode": {
    "name": "ipython",
    "version": 3
   },
   "file_extension": ".py",
   "mimetype": "text/x-python",
   "name": "python",
   "nbconvert_exporter": "python",
   "pygments_lexer": "ipython3",
   "version": "3.9.7"
  }
 },
 "nbformat": 4,
 "nbformat_minor": 5
}
